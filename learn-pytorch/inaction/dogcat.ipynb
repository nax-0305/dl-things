{
 "cells": [
  {
   "cell_type": "markdown",
   "id": "c6be359b",
   "metadata": {},
   "source": [
    "### 使用pytorch进行猫狗识别\n",
    "\n",
    "1. 得到数据，使其tensor化，分为train、validation、test\n",
    "2. 构建网络（是否使用预训练网络）\n",
    "3. 选择优化器、损失函数、衡量指标\n",
    "4. 训练，（ 规定epochs、learning rate等超参数 ）\n",
    "5. 过拟合之后要使用减小网络层级、权重正则化、dropout正则化（随机对部分输入数据置0）\n",
    "6. 重复步骤（如果是小数据集，是否要对其做数据增强；如果是）"
   ]
  }
 ],
 "metadata": {
  "language_info": {
   "name": "python"
  }
 },
 "nbformat": 4,
 "nbformat_minor": 5
}
