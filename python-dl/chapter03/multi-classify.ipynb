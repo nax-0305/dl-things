{
 "cells": [
  {
   "cell_type": "code",
   "execution_count": null,
   "id": "75c49eb0",
   "metadata": {},
   "outputs": [],
   "source": [
    "# 1. 准备数据，如必要，将数据转换为tensor\n",
    "\n",
    "from keras.datasets import reuters\n",
    "import numpy as np\n",
    "\n",
    "# 导入数据\n",
    "(train_data, train_labels), (test_data, test_labels) = reuters.load_data(num_words=10000)\n",
    "\n",
    "\n",
    "# 定义tensor化的函数，to_one_shot是在对标签做one-shot编码，也可以使用直接向量化\n",
    "def vectorize_sequences(sequences, dimension=10000):\n",
    "    results = np.zeros((len(sequences), dimension))\n",
    "    for i, sequence in enumerate(sequences):\n",
    "        results[i, sequence] = 1\n",
    "    return results\n",
    "\n",
    "def to_one_shot(labels, dimension = 46):\n",
    "    results = np.zeros((len(labels), dimension))\n",
    "    for i, label in enumerate(labels):\n",
    "        results[i, label] = 1\n",
    "    return results\n",
    "\n",
    "\n",
    "x_train = vectorize_sequences(train_data)\n",
    "one_shot_train = to_one_shot(train_labels)\n",
    "x_val = x_train[:1000]\n",
    "y_val = one_shot_train[:1000]\n",
    "x_realtrain = x_train[1000:]\n",
    "y_realtrain = one_shot_train[1000:]\n",
    "x_test = vectorize_sequences(test_data)\n",
    "one_shot_test = to_one_shot(test_labels)"
   ]
  },
  {
   "cell_type": "code",
   "execution_count": null,
   "id": "6a5e48c9",
   "metadata": {},
   "outputs": [],
   "source": [
    "# 2. 构建网络\n",
    "\n",
    "from keras import models\n",
    "from keras import layers\n",
    "model = models.Sequential()\n",
    "model.add(layers.Dense(10000,))\n",
    "model.add(layers.Dense(64, activation='relu'))\n",
    "model.add(layers.Dense(64, activation='relu'))\n",
    "model.add(layers.Dense(46, activation='softmax'))"
   ]
  },
  {
   "cell_type": "code",
   "execution_count": null,
   "id": "f18dcb72",
   "metadata": {},
   "outputs": [],
   "source": [
    "# 3. 选择合适的优化器、目标函数、关心值\n",
    "model.compile(optimizer='rmsprop', loss='categorical_crossentropy',metrics=['accuracy'])"
   ]
  },
  {
   "cell_type": "code",
   "execution_count": null,
   "id": "a75b2519",
   "metadata": {},
   "outputs": [],
   "source": [
    "# 4. 训练模型，并给出验证集\n",
    "\n",
    "model_fit = model.fit(x_realtrain, y_realtrain, epochs=20, batch_size=512, validation_data=(x_val, y_val))"
   ]
  },
  {
   "cell_type": "code",
   "execution_count": null,
   "id": "db7eea88",
   "metadata": {},
   "outputs": [],
   "source": [
    "# 5. 通过验证记得准确性和损失率，看是否过拟合\n",
    "\n",
    "import matplotlib.pyplot as plt\n",
    "\n",
    "loss = model_fit.history['loss']\n",
    "val_loss = model_fit.history['val_loss']\n",
    "acc = model_fit.history['accuracy']\n",
    "val_acc = model_fit.history['val_accuracy']\n",
    "epochs = range(1, len(loss) + 1)\n",
    "\n",
    "fig, (ax1, ax2) = plt.subplots(2,1)\n",
    "ax1.plot(epochs, acc, 'bo', label='Training acc')\n",
    "ax1.plot(epochs, val_acc, 'b', label='Validation acc')\n",
    "ax2.plot(epochs, loss, 'bo', label='Training loss')\n",
    "ax2.plot(epochs, val_loss, 'b', label='Validation loss')"
   ]
  },
  {
   "cell_type": "code",
   "execution_count": null,
   "id": "ff6c7942",
   "metadata": {},
   "outputs": [],
   "source": [
    "# 调整网络的迭代次数，打开在9次左右，在测试集上就过拟合了\n",
    "\n",
    "notfit_model = models.Sequential()\n",
    "notfit_model.add(layers.Dense(64, activation='relu', input_shape=(10000,)))\n",
    "notfit_model.add(layers.Dense(64, activation='relu'))\n",
    "notfit_model.add(layers.Dense(46, activation='softmax'))\n",
    "notfit_model.compile(optimizer='rmsprop', loss='categorical_crossentropy', metrics=['accuracy'])\n",
    "notfit_model.fit(x_realtrain, y_realtrain, epochs=9, batch_size=512, validation_data=(x_val, y_val))\n",
    "results = notfit_model.evaluate(x_test, one_shot_test)"
   ]
  },
  {
   "cell_type": "code",
   "execution_count": null,
   "id": "959ff640",
   "metadata": {},
   "outputs": [],
   "source": [
    "print(\"test loss, test acc:\", results)"
   ]
  }
 ],
 "metadata": {
  "kernelspec": {
   "display_name": "base",
   "language": "python",
   "name": "python3"
  },
  "language_info": {
   "codemirror_mode": {
    "name": "ipython",
    "version": 3
   },
   "file_extension": ".py",
   "mimetype": "text/x-python",
   "name": "python",
   "nbconvert_exporter": "python",
   "pygments_lexer": "ipython3",
   "version": "3.11.7"
  }
 },
 "nbformat": 4,
 "nbformat_minor": 5
}
