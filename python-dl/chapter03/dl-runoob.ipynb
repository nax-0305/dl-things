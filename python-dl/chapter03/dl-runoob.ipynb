{
 "cells": [
  {
   "cell_type": "markdown",
   "id": "59ecdea6",
   "metadata": {},
   "source": [
    "### 神经网络入门"
   ]
  },
  {
   "cell_type": "markdown",
   "id": "223f3156",
   "metadata": {},
   "source": [
    "1. 选择正确的网络层来处理对应的输入数据\n",
    "2. 构建好网络架构，需要实战中体会\n",
    "3. 选择适合的目标函数和优化器"
   ]
  },
  {
   "cell_type": "markdown",
   "id": "b45e51bf",
   "metadata": {},
   "source": [
    "### 使用keras的工作流"
   ]
  },
  {
   "cell_type": "markdown",
   "id": "5738603a",
   "metadata": {},
   "source": [
    "1. 定义训练数据，输入张量和目标张量（如果是无监督就不要目标张量）\n",
    "2. 定义层组成的网络，将输入映射到目标\n",
    "3. 选择合适的目标函数和优化器\n",
    "4. 进行训练\n",
    "5. 导出模型"
   ]
  }
 ],
 "metadata": {
  "kernelspec": {
   "display_name": "base",
   "language": "python",
   "name": "python3"
  },
  "language_info": {
   "codemirror_mode": {
    "name": "ipython",
    "version": 3
   },
   "file_extension": ".py",
   "mimetype": "text/x-python",
   "name": "python",
   "nbconvert_exporter": "python",
   "pygments_lexer": "ipython3",
   "version": "3.11.7"
  }
 },
 "nbformat": 4,
 "nbformat_minor": 5
}
