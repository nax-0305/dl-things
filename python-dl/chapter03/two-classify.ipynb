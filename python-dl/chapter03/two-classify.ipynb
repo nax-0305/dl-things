{
 "cells": [
  {
   "cell_type": "code",
   "execution_count": null,
   "id": "6b389058",
   "metadata": {},
   "outputs": [],
   "source": [
    "from keras.datasets import imdb\n",
    "\n",
    "(train_data, train_labels), (test_data, test_labels) = imdb.load_data(num_words=10000)\n"
   ]
  }
 ],
 "metadata": {
  "language_info": {
   "name": "python"
  }
 },
 "nbformat": 4,
 "nbformat_minor": 5
}
