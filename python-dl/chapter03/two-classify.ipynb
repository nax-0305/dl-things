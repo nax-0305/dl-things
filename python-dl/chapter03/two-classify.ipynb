{
 "cells": [
  {
   "cell_type": "code",
   "execution_count": null,
   "id": "6b389058",
   "metadata": {},
   "outputs": [],
   "source": [
    "# 1. 准备数据，将所有输入数据变为tensor\n",
    "from keras.datasets import imdb\n",
    "import numpy as np\n",
    "\n",
    "(train_data, train_labels), (test_data, test_labels) = imdb.load_data(num_words=10000)\n",
    "def vectorize_sequences(sequences, dimension=10000):\n",
    "    results = np.zeros((len(sequences), dimension))\n",
    "    for i, sequence in enumerate(sequences):\n",
    "        # 将全0矩阵result(25000, 10000)中的每一行，sequence位的值由0变为1\n",
    "        results[i, sequence] = 1.\n",
    "    return results\n",
    "\n",
    "x_train = vectorize_sequences(train_data)\n",
    "x_test = vectorize_sequences(test_data)\n",
    "y_train = np.asarray(train_labels).astype('float32')\n",
    "y_test = np.asarray(test_labels).astype('float32')\n",
    "\n",
    "x_val = x_train[:10000]\n",
    "x_train_rest = x_train[10000:]\n",
    "\n",
    "y_val = y_train[:10000]\n",
    "y_train_rest = y_train[10000:]"
   ]
  },
  {
   "cell_type": "code",
   "execution_count": null,
   "id": "843ec113",
   "metadata": {},
   "outputs": [],
   "source": [
    "# 2. 构建网络\n",
    "\n",
    "from keras import models, layers\n",
    "\n",
    "model = models.Sequential()\n",
    "# model.add(layers.Dense(16, activation='relu', input_shape=(10000, )))\n",
    "# 编译之后提示不建议使用input_shape，而是使用Input作为第一层\n",
    "model.add(layers.Input((10000,)))\n",
    "model.add(layers.Dense(16, activation='relu'))\n",
    "model.add(layers.Dense(16, activation='relu'))\n",
    "model.add(layers.Dense(1, activation='sigmoid'))"
   ]
  },
  {
   "cell_type": "code",
   "execution_count": null,
   "id": "8a94af25",
   "metadata": {},
   "outputs": [],
   "source": [
    "# 3. 选择合适目标函数、优化器、监控指标\n",
    "model.compile(optimizer='rmsprop', loss='binary_crossentropy', metrics=['accuracy'])"
   ]
  },
  {
   "cell_type": "code",
   "execution_count": null,
   "id": "f5774242",
   "metadata": {},
   "outputs": [],
   "source": [
    "# 4. 进行训练\n",
    "\n",
    "model_fit = model.fit(x_train_rest, y_train_rest, epochs=20, batch_size=512, validation_data=(x_val, y_val))"
   ]
  },
  {
   "cell_type": "code",
   "execution_count": null,
   "id": "019c938a",
   "metadata": {},
   "outputs": [],
   "source": [
    "# 5. 绘制训练损失和验证损失，检查是否过拟合\n",
    "\n",
    "import matplotlib.pyplot as plt\n",
    "\n",
    "history_dict = model_fit.history\n",
    "loss_values = history_dict['loss']\n",
    "val_loss_values = history_dict['val_loss']\n",
    "acc_values = history_dict['accuracy']\n",
    "val_acc_values = history_dict['val_accuracy']\n",
    "epochs = range(1, len(loss_values) + 1)\n",
    "\n",
    "fig, axs = plt.subplots(1, 2, sharex=True, sharey=True)\n",
    "axs[0].plot(epochs, loss_values, 'bo', label='Training loss')\n",
    "axs[0].plot(epochs, val_loss_values, 'b', label='Validation loss')\n",
    "axs[0].set_title('Training and validation loss')\n",
    "axs[0].set_xlabel('Epochs')\n",
    "axs[0].set_ylabel('Loss')\n",
    "axs[0].legend()\n",
    "\n",
    "axs[1].plot(epochs, acc_values, 'ro', label='Training acc')\n",
    "axs[1].plot(epochs, val_acc_values, 'r', label='Validation acc')\n",
    "axs[1].set_title('Training and validation acc')\n",
    "axs[1].set_xlabel('Epochs')\n",
    "axs[1].set_ylabel('Acc')\n",
    "axs[1].legend()"
   ]
  },
  {
   "cell_type": "code",
   "execution_count": null,
   "id": "6b2d3646",
   "metadata": {},
   "outputs": [],
   "source": [
    "# 6. 使用大概未过拟合的epoch，来fit，最后在测试集上做evaluate\n",
    "from keras import models, layers\n",
    "\n",
    "model_fit = models.Sequential()\n",
    "model_fit.add(layers.Input((10000,)))\n",
    "model_fit.add(layers.Dense(16, activation='relu'))\n",
    "model_fit.add(layers.Dense(16, activation='relu'))\n",
    "model_fit.add(layers.Dense(1, activation='sigmoid'))\n",
    "model_fit.compile(optimizer='rmsprop', loss='binary_crossentropy', metrics=['accuracy'])\n",
    "model_fit.fit(x_train_rest, y_train_rest, epochs=5, batch_size=512, validation_data=(x_val, y_val))\n",
    "results = model_fit.evaluate(x_test, y_test)\n",
    "print(\"test loss, test acc:\", results)"
   ]
  }
 ],
 "metadata": {
  "kernelspec": {
   "display_name": "Python 3 (ipykernel)",
   "language": "python",
   "name": "python3"
  },
  "language_info": {
   "codemirror_mode": {
    "name": "ipython",
    "version": 3
   },
   "file_extension": ".py",
   "mimetype": "text/x-python",
   "name": "python",
   "nbconvert_exporter": "python",
   "pygments_lexer": "ipython3",
   "version": "3.12.4"
  }
 },
 "nbformat": 4,
 "nbformat_minor": 5
}
