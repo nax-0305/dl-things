{
 "cells": [
  {
   "cell_type": "code",
   "execution_count": null,
   "id": "dad32785",
   "metadata": {},
   "outputs": [],
   "source": [
    "# 张量的逐个运算\n",
    "\n",
    "import numpy as np\n",
    "\n",
    "a = np.array([1, 2, 3])\n",
    "b = np.array([2, 3, 4])\n",
    "\n",
    "a + b"
   ]
  },
  {
   "cell_type": "code",
   "execution_count": null,
   "id": "a3e34cc7",
   "metadata": {},
   "outputs": [],
   "source": [
    "# 张量的广播，会将较小维度的张量变成较大维度的张量\n",
    "import numpy as np\n",
    "\n",
    "a = np.array([1,2])\n",
    "b = np.array(range(10)).reshape(5,2)\n",
    "\n",
    "print(b)\n",
    "print(f\"{a.shape}, {b.shape}, {(a+b).shape}\")\n",
    "print(a+b)"
   ]
  },
  {
   "cell_type": "code",
   "execution_count": null,
   "id": "c7a6d45b",
   "metadata": {},
   "outputs": [],
   "source": [
    "# 张量的点积\n",
    "import numpy as np\n",
    "\n",
    "x = np.random.random((10, 32))\n",
    "y = np.random.random((32, 10))\n",
    "\n",
    "print(np.dot(x, y).shape)"
   ]
  },
  {
   "cell_type": "code",
   "execution_count": null,
   "id": "89e0f0ba",
   "metadata": {},
   "outputs": [],
   "source": [
    "# 张量的变形\n",
    "\n",
    "a = np.random.random((10, 2)).reshape(5, 4)\n",
    "a.shape"
   ]
  },
  {
   "cell_type": "code",
   "execution_count": null,
   "id": "e1c7f7ba",
   "metadata": {},
   "outputs": [],
   "source": [
    "# 神经网络的引擎：梯度优化"
   ]
  }
 ],
 "metadata": {
  "kernelspec": {
   "display_name": "base",
   "language": "python",
   "name": "python3"
  },
  "language_info": {
   "codemirror_mode": {
    "name": "ipython",
    "version": 3
   },
   "file_extension": ".py",
   "mimetype": "text/x-python",
   "name": "python",
   "nbconvert_exporter": "python",
   "pygments_lexer": "ipython3",
   "version": "3.11.7"
  }
 },
 "nbformat": 4,
 "nbformat_minor": 5
}
