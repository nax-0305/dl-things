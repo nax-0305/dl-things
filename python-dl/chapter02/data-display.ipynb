{
 "cells": [
  {
   "cell_type": "code",
   "execution_count": null,
   "id": "38e87a48",
   "metadata": {},
   "outputs": [],
   "source": [
    "# 标量、向量、矩阵、张量\n",
    "\n",
    "import numpy as np\n",
    "\n",
    "x0 = np.array(1)\n",
    "x1 = np.array([1, 2, 3, 4])\n",
    "x2 = np.array([[1, 2], \n",
    "               [3, 4]])\n",
    "x3 = np.array([[[1, 2, 3], \n",
    "                [1, 2, 3], \n",
    "                [1, 2, 3]],\n",
    "               [[1, 2, 3], \n",
    "                [1, 2, 3], \n",
    "                [1, 2, 3]],\n",
    "               [[1, 2, 3], \n",
    "                [1, 2, 3], \n",
    "                [1, 2, 3]]])"
   ]
  },
  {
   "cell_type": "code",
   "execution_count": null,
   "id": "1479a5f4",
   "metadata": {},
   "outputs": [],
   "source": []
  },
  {
   "cell_type": "code",
   "execution_count": null,
   "id": "272a9d52",
   "metadata": {},
   "outputs": [],
   "source": [
    "# 张量的关键属性：轴的个数、形状、数据类型\n",
    "\n",
    "print(x0.ndim, x0.shape, x0.dtype)\n",
    "print(x1.ndim, x1.shape, x1.dtype)\n",
    "print(x2.ndim, x2.shape, x2.dtype)\n",
    "print(x3.ndim, x3.shape, x3.dtype)\n"
   ]
  },
  {
   "cell_type": "code",
   "execution_count": null,
   "id": "f180a17c",
   "metadata": {},
   "outputs": [],
   "source": [
    "# 使用matplotlib展示图片\n",
    "from keras.datasets import mnist\n",
    "import matplotlib.pyplot as plt\n",
    "\n",
    "(train_images, train_labels), (test_images, test_labels) = mnist.load_data()\n",
    "digit = train_images[4]\n",
    "plt.imshow(digit,  cmap=plt.cm.binary)\n",
    "plt.show()"
   ]
  },
  {
   "cell_type": "code",
   "execution_count": null,
   "id": "7eebaa39",
   "metadata": {},
   "outputs": [],
   "source": [
    "# 对张量进行切片，对样本进行批处理，或者截取某个样本的部分数据（如图片的裁切）"
   ]
  },
  {
   "cell_type": "code",
   "execution_count": null,
   "id": "77febc63",
   "metadata": {},
   "outputs": [],
   "source": [
    "# 张量在实际中表示的意义，第一个通常为样本数量，也是批处理量"
   ]
  }
 ],
 "metadata": {
  "kernelspec": {
   "display_name": "base",
   "language": "python",
   "name": "python3"
  },
  "language_info": {
   "codemirror_mode": {
    "name": "ipython",
    "version": 3
   },
   "file_extension": ".py",
   "mimetype": "text/x-python",
   "name": "python",
   "nbconvert_exporter": "python",
   "pygments_lexer": "ipython3",
   "version": "3.11.7"
  }
 },
 "nbformat": 4,
 "nbformat_minor": 5
}
