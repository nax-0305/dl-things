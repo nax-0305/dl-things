{
 "cells": [
  {
   "cell_type": "code",
   "execution_count": null,
   "id": "ad6a425b",
   "metadata": {},
   "outputs": [],
   "source": [
    "#使用cnn网络架构来进行猫狗识别"
   ]
  }
 ],
 "metadata": {
  "language_info": {
   "name": "python"
  }
 },
 "nbformat": 4,
 "nbformat_minor": 5
}
