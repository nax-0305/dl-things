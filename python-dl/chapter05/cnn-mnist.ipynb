{
 "cells": [
  {
   "cell_type": "markdown",
   "id": "1df69ec1",
   "metadata": {},
   "source": [
    "### 使用cnn网络来进行数字识别"
   ]
  },
  {
   "cell_type": "code",
   "execution_count": null,
   "id": "55872ac1",
   "metadata": {},
   "outputs": [],
   "source": [
    "# 其他的结构基本类似，主要是网络结构的差别\n",
    "\n",
    "from keras import layers\n",
    "from keras import models\n",
    "model = models.Sequential()\n",
    "model.add(layers.Conv2D(32, (3, 3), activation='relu', input_shape=(28, 28, 1)))\n",
    "model.add(layers.MaxPooling2D((2, 2)))\n",
    "model.add(layers.Conv2D(64, (3, 3), activation='relu'))\n",
    "model.add(layers.MaxPooling2D((2, 2)))\n",
    "model.add(layers.Conv2D(64, (3, 3), activation='relu'))\n",
    "model.add(layers.Flatten())\n",
    "model.add(layers.Dense(64, activation='relu'))\n",
    "model.add(layers.Dense(10, activation='softmax'))\n",
    "\n",
    "from keras.datasets import mnist\n",
    "from keras.utils import to_categorical\n",
    "(train_images, train_labels), (test_images, test_labels) = mnist.load_data()\n",
    "train_images = train_images.reshape((60000, 28, 28, 1))\n",
    "train_images = train_images.astype('float32') / 255\n",
    "test_images = test_images.reshape((10000, 28, 28, 1))\n",
    "test_images = test_images.astype('float32') / 255\n",
    "train_labels = to_categorical(train_labels)\n",
    "test_labels = to_categorical(test_labels)\n",
    "model.compile(optimizer='rmsprop', loss='categorical_crossentropy', metrics=['accuracy'])\n",
    "model.fit(train_images, train_labels, epochs=5, batch_size=64)\n",
    "test_loss, test_acc = model.evaluate(test_images, test_labels)\n"
   ]
  },
  {
   "cell_type": "code",
   "execution_count": null,
   "id": "c0d07aac",
   "metadata": {},
   "outputs": [],
   "source": [
    "# test_acc比全连接的数字识别还精准\n",
    "print(test_loss, test_acc)"
   ]
  },
  {
   "cell_type": "markdown",
   "id": "20e8191d",
   "metadata": {},
   "source": [
    "重要的就是卷积操作、池化操作，\n",
    "\n",
    "1. 通过滤波器，提炼数据，（在输入数据上进行窗口移动，移动前都会进行与“卷积核”乘积累加操作得到一个数值）\n",
    "2. 池化操作，（还是窗口移动，移动之前选择窗口中所有值的最大、最小、平均作为输出）"
   ]
  }
 ],
 "metadata": {
  "kernelspec": {
   "display_name": "base",
   "language": "python",
   "name": "python3"
  },
  "language_info": {
   "codemirror_mode": {
    "name": "ipython",
    "version": 3
   },
   "file_extension": ".py",
   "mimetype": "text/x-python",
   "name": "python",
   "nbconvert_exporter": "python",
   "pygments_lexer": "ipython3",
   "version": "3.11.7"
  }
 },
 "nbformat": 4,
 "nbformat_minor": 5
}
